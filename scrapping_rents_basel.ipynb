{
 "cells": [
  {
   "cell_type": "code",
   "execution_count": 1,
   "metadata": {
    "executionInfo": {
     "elapsed": 216,
     "status": "ok",
     "timestamp": 1736204198353,
     "user": {
      "displayName": "Yohan Diaz",
      "userId": "05213403679872782177"
     },
     "user_tz": -60
    },
    "id": "AHsrcj6Gm3Ii"
   },
   "outputs": [],
   "source": [
    "import time\n",
    "import json\n",
    "import random\n",
    "import requests\n",
    "import pandas as pd\n",
    "\n",
    "from tqdm import tqdm\n",
    "from bs4 import BeautifulSoup"
   ]
  },
  {
   "cell_type": "code",
   "execution_count": 2,
   "metadata": {
    "executionInfo": {
     "elapsed": 231,
     "status": "ok",
     "timestamp": 1736200744732,
     "user": {
      "displayName": "Yohan Diaz",
      "userId": "05213403679872782177"
     },
     "user_tz": -60
    },
    "id": "MbdN_-W2m7KI"
   },
   "outputs": [],
   "source": [
    "def getDataFromPage(url):\n",
    "    request = requests.get(url)\n",
    "    data =  None\n",
    "\n",
    "    if request.status_code == 200:\n",
    "        soup = BeautifulSoup(request.text, \"html.parser\")\n",
    "\n",
    "        data = soup.find_all('script')\n",
    "        split_data = data[7].text.split(\"window.__INITIAL_STATE__=\")\n",
    "        data = split_data[1]\n",
    "    return data"
   ]
  },
  {
   "cell_type": "code",
   "execution_count": 3,
   "metadata": {
    "executionInfo": {
     "elapsed": 3,
     "status": "ok",
     "timestamp": 1736200745363,
     "user": {
      "displayName": "Yohan Diaz",
      "userId": "05213403679872782177"
     },
     "user_tz": -60
    },
    "id": "hk2I9FxcnHAi"
   },
   "outputs": [],
   "source": [
    "def getPageCount(data):\n",
    "    result = data[\"resultList\"][\"search\"][\"fullSearch\"][\"result\"]\n",
    "    page_count = result[\"pageCount\"]\n",
    "\n",
    "    return page_count"
   ]
  },
  {
   "cell_type": "code",
   "execution_count": 4,
   "metadata": {
    "executionInfo": {
     "elapsed": 449,
     "status": "ok",
     "timestamp": 1736202252835,
     "user": {
      "displayName": "Yohan Diaz",
      "userId": "05213403679872782177"
     },
     "user_tz": -60
    },
    "id": "k2pfh9q5nIbh"
   },
   "outputs": [],
   "source": [
    "def createDataFrame(url):\n",
    "    list_rent:list = []\n",
    "    data = getDataFromPage(url)\n",
    "\n",
    "    if data:\n",
    "        json_data = json.loads(data)\n",
    "        num_pages = getPageCount(json_data)\n",
    "\n",
    "        for page in tqdm(range(1, num_pages + 1)):\n",
    "            url_page = f\"https://www.immoscout24.ch/de/immobilien/mieten/ort-basel?pn={page}\"\n",
    "\n",
    "            try:\n",
    "              scraping_data = getDataFromPage(url_page)\n",
    "              json_scraping_data = json.loads(scraping_data)\n",
    "              scraping_result = json_scraping_data[\"resultList\"][\"search\"][\"fullSearch\"][\"result\"]\n",
    "              listings = scraping_result[\"listings\"]\n",
    "              list_rent.append(listings)\n",
    "              print(f\"Count: {page}\")\n",
    "              time.sleep(random.randint(1, 4))\n",
    "            except:\n",
    "              continue\n",
    "\n",
    "    return list_rent"
   ]
  },
  {
   "cell_type": "code",
   "execution_count": 5,
   "metadata": {
    "executionInfo": {
     "elapsed": 281,
     "status": "ok",
     "timestamp": 1736205505282,
     "user": {
      "displayName": "Yohan Diaz",
      "userId": "05213403679872782177"
     },
     "user_tz": -60
    },
    "id": "CDKYWuY5oRXy"
   },
   "outputs": [],
   "source": [
    "def createDataset(data):\n",
    "  dataset:list = []\n",
    "\n",
    "  try:\n",
    "\n",
    "    for page in enumerate(data):\n",
    "      for listing in enumerate(page[1]):\n",
    "\n",
    "        street = listing[1][\"listing\"][\"address\"].get(\"street\") or None,\n",
    "        located = listing[1][\"listing\"][\"address\"].get(\"postalCode\") or None,\n",
    "        characteristics = listing[1][\"listing\"].get('characteristics') or None\n",
    "\n",
    "        if characteristics is not None:\n",
    "          dataset.append(\n",
    "              {\n",
    "                  \"id\": listing[1].get(\"id\") or None,\n",
    "                  \"categories\": listing[1][\"listing\"].get(\"categories\") or None,\n",
    "                  \"price (CHF)\": listing[1][\"listing\"][\"prices\"][\"rent\"].get(\"gross\") or None,\n",
    "                  \"latitude\": listing[1][\"listing\"][\"address\"][\"geoCoordinates\"].get(\"latitude\") or None,\n",
    "                  \"longitude\": listing[1][\"listing\"][\"address\"][\"geoCoordinates\"].get(\"longitude\") or None,\n",
    "                  \"city\": listing[1][\"listing\"][\"address\"].get(\"locality\") or None,\n",
    "                  \"living_space (m2)\": characteristics.get(\"livingSpace\") or None,\n",
    "                  \"num_rooms\": characteristics.get(\"numberOfRooms\") or None,\n",
    "                  \"floor\": characteristics.get(\"floor\") or None,\n",
    "                  \"num_floors\": characteristics.get(\"numberOfFloors\") or None,\n",
    "                  \"year_built\": characteristics.get(\"yearBuilt\") or None,\n",
    "                  \"is_new_building\": characteristics.get(\"isNewBuilding\") or None,\n",
    "                  \"is_old_building\": characteristics.get(\"isOldBuilding\") or None,\n",
    "                  \"year_last_renovated\": characteristics.get(\"yearLastRenovated\") or None,\n",
    "                  \"street\": street[0] if street is not None else None,\n",
    "                  \"postal_code\": located[0] if located is not None else None,\n",
    "              }\n",
    "          )\n",
    "  except NameError as e:\n",
    "    print(e)\n",
    "  return dataset"
   ]
  },
  {
   "cell_type": "code",
   "execution_count": 6,
   "metadata": {
    "executionInfo": {
     "elapsed": 233,
     "status": "ok",
     "timestamp": 1736205483685,
     "user": {
      "displayName": "Yohan Diaz",
      "userId": "05213403679872782177"
     },
     "user_tz": -60
    },
    "id": "LWIym0VNoTGq"
   },
   "outputs": [
    {
     "name": "stderr",
     "output_type": "stream",
     "text": [
      "  0%|          | 0/48 [00:00<?, ?it/s]"
     ]
    },
    {
     "name": "stdout",
     "output_type": "stream",
     "text": [
      "Count: 1\n"
     ]
    },
    {
     "name": "stderr",
     "output_type": "stream",
     "text": [
      "  2%|▏         | 1/48 [00:02<02:12,  2.82s/it]"
     ]
    },
    {
     "name": "stdout",
     "output_type": "stream",
     "text": [
      "Count: 2\n"
     ]
    },
    {
     "name": "stderr",
     "output_type": "stream",
     "text": [
      "  4%|▍         | 2/48 [00:06<02:34,  3.37s/it]"
     ]
    },
    {
     "name": "stdout",
     "output_type": "stream",
     "text": [
      "Count: 3\n"
     ]
    },
    {
     "name": "stderr",
     "output_type": "stream",
     "text": [
      "  6%|▋         | 3/48 [00:11<02:59,  3.99s/it]"
     ]
    },
    {
     "name": "stdout",
     "output_type": "stream",
     "text": [
      "Count: 4\n"
     ]
    },
    {
     "name": "stderr",
     "output_type": "stream",
     "text": [
      "  8%|▊         | 4/48 [00:13<02:19,  3.16s/it]"
     ]
    },
    {
     "name": "stdout",
     "output_type": "stream",
     "text": [
      "Count: 5\n"
     ]
    },
    {
     "name": "stderr",
     "output_type": "stream",
     "text": [
      " 10%|█         | 5/48 [00:17<02:27,  3.42s/it]"
     ]
    },
    {
     "name": "stdout",
     "output_type": "stream",
     "text": [
      "Count: 6\n"
     ]
    },
    {
     "name": "stderr",
     "output_type": "stream",
     "text": [
      " 12%|█▎        | 6/48 [00:19<02:14,  3.20s/it]"
     ]
    },
    {
     "name": "stdout",
     "output_type": "stream",
     "text": [
      "Count: 7\n"
     ]
    },
    {
     "name": "stderr",
     "output_type": "stream",
     "text": [
      " 15%|█▍        | 7/48 [00:23<02:19,  3.41s/it]"
     ]
    },
    {
     "name": "stdout",
     "output_type": "stream",
     "text": [
      "Count: 8\n"
     ]
    },
    {
     "name": "stderr",
     "output_type": "stream",
     "text": [
      " 17%|█▋        | 8/48 [00:28<02:34,  3.85s/it]"
     ]
    },
    {
     "name": "stdout",
     "output_type": "stream",
     "text": [
      "Count: 9\n"
     ]
    },
    {
     "name": "stderr",
     "output_type": "stream",
     "text": [
      " 19%|█▉        | 9/48 [00:32<02:29,  3.84s/it]"
     ]
    },
    {
     "name": "stdout",
     "output_type": "stream",
     "text": [
      "Count: 10\n"
     ]
    },
    {
     "name": "stderr",
     "output_type": "stream",
     "text": [
      " 21%|██        | 10/48 [00:36<02:26,  3.85s/it]"
     ]
    },
    {
     "name": "stdout",
     "output_type": "stream",
     "text": [
      "Count: 11\n"
     ]
    },
    {
     "name": "stderr",
     "output_type": "stream",
     "text": [
      " 23%|██▎       | 11/48 [00:40<02:32,  4.12s/it]"
     ]
    },
    {
     "name": "stdout",
     "output_type": "stream",
     "text": [
      "Count: 12\n"
     ]
    },
    {
     "name": "stderr",
     "output_type": "stream",
     "text": [
      " 25%|██▌       | 12/48 [00:44<02:25,  4.05s/it]"
     ]
    },
    {
     "name": "stdout",
     "output_type": "stream",
     "text": [
      "Count: 13\n"
     ]
    },
    {
     "name": "stderr",
     "output_type": "stream",
     "text": [
      " 27%|██▋       | 13/48 [00:47<02:08,  3.66s/it]"
     ]
    },
    {
     "name": "stdout",
     "output_type": "stream",
     "text": [
      "Count: 14\n"
     ]
    },
    {
     "name": "stderr",
     "output_type": "stream",
     "text": [
      " 29%|██▉       | 14/48 [00:51<02:05,  3.69s/it]"
     ]
    },
    {
     "name": "stdout",
     "output_type": "stream",
     "text": [
      "Count: 15\n"
     ]
    },
    {
     "name": "stderr",
     "output_type": "stream",
     "text": [
      " 31%|███▏      | 15/48 [00:56<02:12,  4.03s/it]"
     ]
    },
    {
     "name": "stdout",
     "output_type": "stream",
     "text": [
      "Count: 16\n"
     ]
    },
    {
     "name": "stderr",
     "output_type": "stream",
     "text": [
      " 33%|███▎      | 16/48 [00:59<02:05,  3.93s/it]"
     ]
    },
    {
     "name": "stdout",
     "output_type": "stream",
     "text": [
      "Count: 17\n"
     ]
    },
    {
     "name": "stderr",
     "output_type": "stream",
     "text": [
      " 35%|███▌      | 17/48 [01:02<01:52,  3.62s/it]"
     ]
    },
    {
     "name": "stdout",
     "output_type": "stream",
     "text": [
      "Count: 18\n"
     ]
    },
    {
     "name": "stderr",
     "output_type": "stream",
     "text": [
      " 38%|███▊      | 18/48 [01:04<01:34,  3.16s/it]"
     ]
    },
    {
     "name": "stdout",
     "output_type": "stream",
     "text": [
      "Count: 19\n"
     ]
    },
    {
     "name": "stderr",
     "output_type": "stream",
     "text": [
      " 40%|███▉      | 19/48 [01:08<01:36,  3.33s/it]"
     ]
    },
    {
     "name": "stdout",
     "output_type": "stream",
     "text": [
      "Count: 20\n"
     ]
    },
    {
     "name": "stderr",
     "output_type": "stream",
     "text": [
      " 42%|████▏     | 20/48 [01:12<01:37,  3.47s/it]"
     ]
    },
    {
     "name": "stdout",
     "output_type": "stream",
     "text": [
      "Count: 21\n"
     ]
    },
    {
     "name": "stderr",
     "output_type": "stream",
     "text": [
      " 44%|████▍     | 21/48 [01:14<01:20,  2.97s/it]"
     ]
    },
    {
     "name": "stdout",
     "output_type": "stream",
     "text": [
      "Count: 22\n"
     ]
    },
    {
     "name": "stderr",
     "output_type": "stream",
     "text": [
      "100%|██████████| 48/48 [01:17<00:00,  1.61s/it]\n"
     ]
    }
   ],
   "source": [
    "# URL BASE\n",
    "url = \"https://www.immoscout24.ch/de/immobilien/mieten/ort-basel?nrs=100\"\n",
    "# DATA\n",
    "data = createDataFrame(url)"
   ]
  },
  {
   "cell_type": "code",
   "execution_count": 7,
   "metadata": {
    "executionInfo": {
     "elapsed": 232,
     "status": "ok",
     "timestamp": 1736205509214,
     "user": {
      "displayName": "Yohan Diaz",
      "userId": "05213403679872782177"
     },
     "user_tz": -60
    },
    "id": "-0H1_Hxjyoak"
   },
   "outputs": [],
   "source": [
    "dataset = createDataset(data)"
   ]
  },
  {
   "cell_type": "code",
   "execution_count": 8,
   "metadata": {
    "executionInfo": {
     "elapsed": 319,
     "status": "ok",
     "timestamp": 1736205941100,
     "user": {
      "displayName": "Yohan Diaz",
      "userId": "05213403679872782177"
     },
     "user_tz": -60
    },
    "id": "OMPCOrhD6XF-"
   },
   "outputs": [],
   "source": [
    "df = pd.DataFrame(dataset)\n",
    "df.to_csv(\"rents_basel.csv\", index=False)"
   ]
  },
  {
   "cell_type": "code",
   "execution_count": 77,
   "metadata": {
    "executionInfo": {
     "elapsed": 305,
     "status": "ok",
     "timestamp": 1736205832344,
     "user": {
      "displayName": "Yohan Diaz",
      "userId": "05213403679872782177"
     },
     "user_tz": -60
    },
    "id": "Jlzc7z256bXq"
   },
   "outputs": [],
   "source": []
  },
  {
   "cell_type": "code",
   "execution_count": null,
   "metadata": {
    "id": "Dxg1W75c6idV"
   },
   "outputs": [],
   "source": []
  }
 ],
 "metadata": {
  "colab": {
   "authorship_tag": "ABX9TyOHdbA67KmsVB57cl0RoeMb",
   "provenance": []
  },
  "kernelspec": {
   "display_name": "Python 3 (ipykernel)",
   "language": "python",
   "name": "python3"
  },
  "language_info": {
   "codemirror_mode": {
    "name": "ipython",
    "version": 3
   },
   "file_extension": ".py",
   "mimetype": "text/x-python",
   "name": "python",
   "nbconvert_exporter": "python",
   "pygments_lexer": "ipython3",
   "version": "3.12.7"
  }
 },
 "nbformat": 4,
 "nbformat_minor": 4
}
